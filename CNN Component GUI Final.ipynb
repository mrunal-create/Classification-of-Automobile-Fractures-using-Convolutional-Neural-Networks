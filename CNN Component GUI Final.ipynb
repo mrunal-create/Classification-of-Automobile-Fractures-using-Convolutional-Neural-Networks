{
 "cells": [
  {
   "cell_type": "code",
   "execution_count": 1,
   "metadata": {
    "scrolled": true
   },
   "outputs": [
    {
     "name": "stderr",
     "output_type": "stream",
     "text": [
      "C:\\Users\\Sourabh\\Anaconda3\\lib\\site-packages\\h5py\\__init__.py:72: UserWarning: h5py is running against HDF5 1.10.2 when it was built against 1.10.3, this may cause problems\n",
      "  '{0}.{1}.{2}'.format(*version.hdf5_built_version_tuple)\n",
      "Using TensorFlow backend.\n"
     ]
    }
   ],
   "source": [
    "import numpy as np\n",
    "import sys\n",
    "import keras\n",
    "from keras.preprocessing import image\n",
    "from keras.models import Sequential\n",
    "from keras.layers import Convolution2D\n",
    "from keras.layers import MaxPooling2D\n",
    "from keras.layers import Flatten\n",
    "from keras.layers import Dense\n",
    "\n",
    "from PyQt5.QtWidgets import QWidget,QApplication,QLineEdit,QMessageBox,QPushButton,QInputDialog,QAction,QMainWindow,QFileDialog,QTextEdit\n",
    "from PyQt5 import QtGui, QtCore\n",
    "from PyQt5.QtCore import pyqtSignal\n",
    "import functools \n",
    "import operator  \n",
    "from PyQt5.QtWidgets import QWidget,QApplication,QLineEdit,QMessageBox,QPushButton,QVBoxLayout,QInputDialog,QAction,QMainWindow,QFileDialog,QTextEdit,QMessageBox\n",
    "from PyQt5 import QtGui, QtCore\n",
    "from PyQt5.QtCore import pyqtSignal\n",
    "from PyQt5.QtGui import QIcon\n",
    "\n"
   ]
  },
  {
   "cell_type": "code",
   "execution_count": 2,
   "metadata": {},
   "outputs": [],
   "source": [
    "class Window(QWidget):\n",
    "\n",
    "    def __init__(self,parent=None):\n",
    "        QMainWindow.__init__(self, parent)\n",
    "        super(Window, self).__init__()\n",
    "        self.setGeometry(50, 50, 500, 300)\n",
    "        self.setWindowTitle(\"Component Failure Analyzer\")\n",
    "        #self.getText()\n",
    "        \n",
    "        self.textbox = QLineEdit(self)\n",
    "        self.textbox.move(20, 20)\n",
    "        self.textbox.resize(280,40)\n",
    "        #self.textbox2 = QLineEdit(self)\n",
    "        #self.textbox2.move(20, 60)\n",
    "        #self.textbox2.resize(280,40)\n",
    "        b1 = QPushButton('SUBMIT', self)\n",
    "        b1.move(20,120)\n",
    "        b2 = QPushButton('Browse', self)\n",
    "        b2.move(20,160)\n",
    "        \n",
    "        self.b1()\n",
    "        \n",
    "        \n",
    "    def b1(self):\n",
    "        self.b2 = QPushButton('Browse', self)\n",
    "        self.b2.move(20,160)\n",
    "        self.b2.clicked.connect(self.on_click)\n",
    "        #self.b2.clicked.connect(self.getfiles)\n",
    "        #layout.addWidget(b2)\n",
    "        #self.show()\n",
    "        #self.close()\n",
    "                \n",
    "        self.b1 = QPushButton('SUBMIT', self)\n",
    "        self.b1.move(20,120)\n",
    "        self.b1.clicked.connect(self.on_clk2)\n",
    "       # layout.addWidget(self.b1)\n",
    "        self.show()\n",
    "        #self.close()\n",
    "\n",
    "        \n",
    "    #def getfiles(self):\n",
    "        #fileName, _ = QFileDialog.getOpenFileName(self, 'Single File', QtCore.QDir.rootPath() , '*.')\n",
    "        #self.ui.lineEdit.setText(fileName)\n",
    "    #def on_clk2(self):        \n",
    "     #   filePath ='Hello'\n",
    "      #  pre=str(filePath)\n",
    "       # self.textbox.setText(pre) \n",
    "        #self.show()\n",
    "        \n",
    "    def on_click(self):\n",
    "        filePath = QFileDialog.getOpenFileName(self, \n",
    "                                                    r'Single File',\n",
    "                                                    \"~/Desktop\")\n",
    "        pre=str(filePath)\n",
    "        pre.replace('\\\\','/')\n",
    "        path=pre\n",
    "        i=0\n",
    "        l=[]\n",
    "        for c in path:\n",
    "            i=i+1    \n",
    "            if c==\"'\":\n",
    "                l.append(i)\n",
    "                if len(l)==2:\n",
    "                    break\n",
    "        final_path=path[l[0]:l[1]-1]\n",
    "        print(final_path)\n",
    "        self.textbox.setText(final_path)\n",
    "        self.show()\n",
    "    def on_clk2(self):\n",
    "        textboxValue = self.textbox.text()\n",
    "        path=textboxValue    \n",
    "        test_image = image.load_img(path, target_size=(64, 64))\n",
    "        test_image = image.img_to_array(test_image)\n",
    "        test_image = np.expand_dims(test_image, axis = 0)\n",
    "        result = clf.predict(test_image)\n",
    "        training_set.class_indices\n",
    "\n",
    "        if result[0][0] == 1:\n",
    "            prediction = 'Brittle'\n",
    "        elif result[0][1] == 1:\n",
    "            prediction = 'Ductile'\n",
    "        elif result[0][2] == 1:\n",
    "            prediction = 'Fatigue'\n",
    "        else:\n",
    "            prediction = 'none'\n",
    "            \n",
    "        #textboxValue = self.textbox.text()\n",
    "        #QMessageBox.question(self, 'Message - pythonspot.com', \"You typed: \" + textboxValue, QMessageBox.Ok, QMessageBox.Ok)\n",
    "        #self.textbox.setText(\"\")    \n",
    "        pre=\"The Predicted Component Failure is\" + (str(prediction))\n",
    "        self.textbox.setText(pre)"
   ]
  },
  {
   "cell_type": "code",
   "execution_count": 3,
   "metadata": {},
   "outputs": [
    {
     "name": "stderr",
     "output_type": "stream",
     "text": [
      "C:\\Users\\Sourabh\\Anaconda3\\lib\\site-packages\\ipykernel_launcher.py:6: UserWarning: Update your `Conv2D` call to the Keras 2 API: `Conv2D(32, (3, 3), input_shape=(64, 64, 3..., activation=\"relu\")`\n",
      "  \n",
      "C:\\Users\\Sourabh\\Anaconda3\\lib\\site-packages\\ipykernel_launcher.py:16: UserWarning: Update your `Conv2D` call to the Keras 2 API: `Conv2D(64, (3, 3), activation=\"relu\")`\n",
      "  app.launch_new_instance()\n",
      "C:\\Users\\Sourabh\\Anaconda3\\lib\\site-packages\\ipykernel_launcher.py:23: UserWarning: Update your `Conv2D` call to the Keras 2 API: `Conv2D(128, (3, 3), activation=\"relu\")`\n",
      "C:\\Users\\Sourabh\\Anaconda3\\lib\\site-packages\\ipykernel_launcher.py:27: UserWarning: Update your `Conv2D` call to the Keras 2 API: `Conv2D(256, (3, 3), activation=\"relu\")`\n"
     ]
    }
   ],
   "source": [
    "clf = Sequential()\n",
    "\n",
    "\n",
    "\n",
    "\n",
    "clf.add(Convolution2D(32,3,3, input_shape = (64,64,3), activation = \"relu\"))\n",
    "\n",
    "\n",
    "\n",
    "\n",
    "clf.add(MaxPooling2D(pool_size = (2,2)))\n",
    "\n",
    "\n",
    "\n",
    "\n",
    "clf.add(Convolution2D(64,3,3,  activation = \"relu\"))\n",
    "\n",
    "\n",
    "\n",
    "\n",
    "clf.add(MaxPooling2D(pool_size = (2,2)))\n",
    "\n",
    "clf.add(Convolution2D(128,3,3,  activation = \"relu\"))\n",
    "\n",
    "clf.add(MaxPooling2D(pool_size = (2,2)))\n",
    "\n",
    "clf.add(Convolution2D(256,3,3,  activation = \"relu\"))\n",
    "\n",
    "clf.add(MaxPooling2D(pool_size = (2,2)))\n",
    "\n",
    "clf.add(Flatten())\n"
   ]
  },
  {
   "cell_type": "code",
   "execution_count": 4,
   "metadata": {},
   "outputs": [
    {
     "name": "stdout",
     "output_type": "stream",
     "text": [
      "Found 206 images belonging to 3 classes.\n",
      "Found 87 images belonging to 3 classes.\n"
     ]
    },
    {
     "name": "stderr",
     "output_type": "stream",
     "text": [
      "C:\\Users\\Sourabh\\Anaconda3\\lib\\site-packages\\ipykernel_launcher.py:27: UserWarning: Update your `Dense` call to the Keras 2 API: `Dense(activation=\"relu\", units=128)`\n",
      "C:\\Users\\Sourabh\\Anaconda3\\lib\\site-packages\\ipykernel_launcher.py:29: UserWarning: Update your `Dense` call to the Keras 2 API: `Dense(activation=\"softmax\", units=3)`\n",
      "C:\\Users\\Sourabh\\Anaconda3\\lib\\site-packages\\ipykernel_launcher.py:39: UserWarning: The semantics of the Keras 2 argument `steps_per_epoch` is not the same as the Keras 1 argument `samples_per_epoch`. `steps_per_epoch` is the number of batches to draw from the generator at each epoch. Basically steps_per_epoch = samples_per_epoch/batch_size. Similarly `nb_val_samples`->`validation_steps` and `val_samples`->`steps` arguments have changed. Update your method calls accordingly.\n",
      "C:\\Users\\Sourabh\\Anaconda3\\lib\\site-packages\\ipykernel_launcher.py:39: UserWarning: Update your `fit_generator` call to the Keras 2 API: `fit_generator(<keras_pre..., validation_data=<keras_pre..., steps_per_epoch=219, epochs=8, validation_steps=272)`\n"
     ]
    },
    {
     "name": "stdout",
     "output_type": "stream",
     "text": [
      "Epoch 1/8\n",
      "219/219 [==============================] - 54s 249ms/step - loss: 1.0898 - acc: 0.3470 - val_loss: 1.1076 - val_acc: 0.2745A: 5s - loss: 1.0907 - acc: 0.334 - ETA: 5s - loss: 1.0907 - acc: 0 - ETA: 4s - loss: 1.0910 - acc: 0.3 - ETA: 3s - loss: 1\n",
      "Epoch 2/8\n",
      "219/219 [==============================] - 55s 249ms/step - loss: 1.0606 - acc: 0.4128 - val_loss: 1.1106 - val_acc: 0.2768.0741 - a - ETA - ETA: 11s - loss: 1.0508 - ETA: 9s - loss: 1.0499 - acc: 0. - ETA: 8s - loss: 1. - ETA: 5s - loss: 1.0559 - acc - ETA: 3s - loss: 1.05\n",
      "Epoch 3/8\n",
      "219/219 [==============================] - 51s 234ms/step - loss: 1.0415 - acc: 0.4347 - val_loss: 0.9150 - val_acc: 0.5498- ETA: 32s - loss: 1.1024 - acc: 0. - ETA: 32s - loss: 1.1023 - a - ETA: 27s - loss: 1.0979 - acc: 0. - E - ETA: 22s - loss: 1.0878 - acc: 0.38 - ETA: 22s - loss: 1.0855 - ETA: 21s - loss: 1.0816 - acc: 0. - ETA: 20s - loss: 1.07 - ETA: 19s - loss: 1.07 - E - ET - ETA: 1s - loss: 1.0451 - acc:\n",
      "Epoch 4/8\n",
      "219/219 [==============================] - 50s 227ms/step - loss: 0.9423 - acc: 0.5297 - val_loss: 1.0045 - val_acc: 0.5141 0. - ETA: 34s - loss: 0.9770 - acc:  - ETA: 33s -  - ETA: 26s - loss - ETA: 24s - loss: 0.9488 - acc: 0.50 - ETA: 24s - loss: 0. - ETA: 18s - lo - ETA: 12s - loss: 0.9320 - acc - ETA: 11s - loss: - ETA: 9s - loss: 0. - ETA: 5s - loss: 0.9458 - acc: 0.52 - ETA: 5s - loss: 0.9 - ETA: 2s - loss: 0.9445 - a\n",
      "Epoch 5/8\n",
      "219/219 [==============================] - 49s 225ms/step - loss: 0.9149 - acc: 0.5498 - val_loss: 0.8619 - val_acc: 0.5635oss: 0.9194 - - ETA: 10s - lo - ETA: 5s - loss: 0.9155 - acc: 0 - ETA: 4s - lo\n",
      "Epoch 6/8\n",
      "219/219 [==============================] - 49s 225ms/step - loss: 0.8631 - acc: 0.5817 - val_loss: 0.9220 - val_acc: 0.5848- ETA: 11 - ETA: 7s - loss: 0.8657 - acc:  - ETA: 6s - loss: 0.86 - ETA: 3s - loss: 0.8\n",
      "Epoch 7/8\n",
      "219/219 [==============================] - 49s 226ms/step - loss: 0.8206 - acc: 0.6247 - val_loss: 0.8598 - val_acc: 0.5901 loss: 0.7749 - acc - ETA: 39s - loss: 0.7739 - acc: 0. - ETA:  - ETA: 33s - loss: 0.8334 - acc - ETA: 32s - loss: 0.8233 - acc: 0. - ETA: 32s - loss: 0.8269 - ETA: 25s - loss: 0.8371 - acc - ETA: 24s - loss: 0.8426 - acc:  - ETA: 24s -  - ETA: 10s - loss: 0.8340 - acc: 0 - ETA: 9s - loss: 0.8355 - acc: 0.6 - ETA: 8s - loss: 0.8356 - - ETA: 6s - loss: 0.8308 - acc: 0.610 - ETA: 6s - loss: 0.8333 - acc: 0.60 - ETA: 5\n",
      "Epoch 8/8\n",
      "219/219 [==============================] - 50s 228ms/step - loss: 0.7560 - acc: 0.6502 - val_loss: 0.9276 - val_acc: 0.5992c: 0.62 - ETA: 32s - loss: 0.8039 - acc:  - ETA - ETA: 28s - loss: 0.7643 - acc: 0.63 - ETA: 28s - loss: 0.7598 - a - ETA: 27s -  - ETA:  - ETA: 10s - loss: 0.7531 - acc: 0.6 - ETA: 9s - loss: 0.7518 - acc - ETA: 8s - loss: 0.7514 - ac - ETA: 6s - loss: 0.7686 -  - ETA: 4s - loss: 0.7682  - ETA: 1s - loss: 0.7582 - ac\n"
     ]
    },
    {
     "data": {
      "text/plain": [
       "<keras.callbacks.History at 0xdf7dcf8>"
      ]
     },
     "execution_count": 4,
     "metadata": {},
     "output_type": "execute_result"
    }
   ],
   "source": [
    "from keras.preprocessing.image import ImageDataGenerator\n",
    "\n",
    "\n",
    "\n",
    "train_datagen = ImageDataGenerator(\n",
    "        rescale=1./255,\n",
    "        shear_range=0.2,\n",
    "        zoom_range=0.2,\n",
    "        horizontal_flip=True)\n",
    "\n",
    "test_datagen = ImageDataGenerator(rescale=1./255)\n",
    "\n",
    "training_set = train_datagen.flow_from_directory(r'C:\\Users\\Sourabh\\Desktop\\SIH 2019\\SIH_DATASET\\x4 + cropped_text [mannually splitted]\\Training',\n",
    "                                                 target_size=(64, 64),\n",
    "                                                 batch_size=5,\n",
    "                                                 class_mode='categorical')\n",
    "        \n",
    "\n",
    "test_set = test_datagen.flow_from_directory(r'C:\\Users\\Sourabh\\Desktop\\SIH 2019\\SIH_DATASET\\x4 + cropped_text [mannually splitted]\\Validation',\n",
    "                                            target_size=(64, 64),\n",
    "                                            batch_size=5,\n",
    "                                            class_mode='categorical')\n",
    "\n",
    "\n",
    "\n",
    "\n",
    "clf.add(Dense(output_dim = 128 , activation = \"relu\"))\n",
    "\n",
    "clf.add(Dense(output_dim = 3, activation = \"softmax\"))\n",
    "\n",
    "\n",
    "\n",
    "\n",
    "clf.compile(optimizer = \"adam\", loss = \"categorical_crossentropy\", metrics = [\"accuracy\"])\n",
    "clf.fit_generator(training_set,\n",
    "                         samples_per_epoch = 1097,\n",
    "                         nb_epoch =8,\n",
    "                         validation_data = test_set,\n",
    "                         nb_val_samples = 272 )\n"
   ]
  },
  {
   "cell_type": "code",
   "execution_count": 5,
   "metadata": {},
   "outputs": [
    {
     "name": "stdout",
     "output_type": "stream",
     "text": [
      "C:/Users/Sourabh/Desktop/SIH 2019/SIH_DATASET/4x plus original/Validation/ductile_validation/Ductile Fracture (6).jpg\n",
      "C:/Users/Sourabh/Desktop/SIH 2019/SIH_DATASET/4x plus original/Validation/fatigue_validation/Fatigue Fracture (6).jpg\n",
      "C:/Users/Sourabh/Desktop/SIH 2019/SIH_DATASET/4x plus original/Validation/fatigue_validation/Fatigue Fracture 13c.jpg\n"
     ]
    },
    {
     "ename": "SystemExit",
     "evalue": "0",
     "output_type": "error",
     "traceback": [
      "An exception has occurred, use %tb to see the full traceback.\n",
      "\u001b[1;31mSystemExit\u001b[0m\u001b[1;31m:\u001b[0m 0\n"
     ]
    },
    {
     "name": "stderr",
     "output_type": "stream",
     "text": [
      "C:\\Users\\Sourabh\\Anaconda3\\lib\\site-packages\\IPython\\core\\interactiveshell.py:3299: UserWarning: To exit: use 'exit', 'quit', or Ctrl-D.\n",
      "  warn(\"To exit: use 'exit', 'quit', or Ctrl-D.\", stacklevel=1)\n"
     ]
    }
   ],
   "source": [
    "def run():\n",
    "    app = QApplication(sys.argv)\n",
    "    GUI = Window()\n",
    "    sys.exit(app.exec_())\n",
    "        \n",
    "        \n",
    "run()    \n",
    "exit()"
   ]
  },
  {
   "cell_type": "code",
   "execution_count": null,
   "metadata": {},
   "outputs": [],
   "source": []
  }
 ],
 "metadata": {
  "kernelspec": {
   "display_name": "Python 3",
   "language": "python",
   "name": "python3"
  },
  "language_info": {
   "codemirror_mode": {
    "name": "ipython",
    "version": 3
   },
   "file_extension": ".py",
   "mimetype": "text/x-python",
   "name": "python",
   "nbconvert_exporter": "python",
   "pygments_lexer": "ipython3",
   "version": "3.7.4"
  }
 },
 "nbformat": 4,
 "nbformat_minor": 2
}
